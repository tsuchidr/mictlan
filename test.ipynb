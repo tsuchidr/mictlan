{
 "cells": [
  {
   "cell_type": "code",
   "execution_count": 4,
   "metadata": {},
   "outputs": [
    {
     "data": {
      "text/plain": [
       "2"
      ]
     },
     "execution_count": 4,
     "metadata": {},
     "output_type": "execute_result"
    }
   ],
   "source": [
    "def Euclid(ia,ib):\n",
    "    if ia > ib:\n",
    "        a = ia\n",
    "        b = ib\n",
    "    else:\n",
    "        a = ib\n",
    "        b = ia\n",
    "\n",
    "    if b == 0:\n",
    "        return a\n",
    "    else:\n",
    "        c = a % b\n",
    "        return Euclid(b,c)\n",
    "\n",
    "Euclid(746282,2832)"
   ]
  },
  {
   "cell_type": "code",
   "execution_count": 5,
   "metadata": {},
   "outputs": [
    {
     "data": {
      "text/plain": [
       "7"
      ]
     },
     "execution_count": 5,
     "metadata": {},
     "output_type": "execute_result"
    }
   ],
   "source": [
    "def mic(a,b):\n",
    "    return a + b\n",
    "\n",
    "mic(3,4)"
   ]
  }
 ],
 "metadata": {
  "kernelspec": {
   "display_name": "Python 3",
   "language": "python",
   "name": "python3"
  },
  "language_info": {
   "codemirror_mode": {
    "name": "ipython",
    "version": 3
   },
   "file_extension": ".py",
   "mimetype": "text/x-python",
   "name": "python",
   "nbconvert_exporter": "python",
   "pygments_lexer": "ipython3",
   "version": "3.12.0"
  }
 },
 "nbformat": 4,
 "nbformat_minor": 2
}
